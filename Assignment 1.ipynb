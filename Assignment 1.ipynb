{
 "cells": [
  {
   "cell_type": "markdown",
   "metadata": {},
   "source": [
    "# Assignment 1 - Probability, Linear Algebra, Programming, and Git\n",
    "\n",
    "## Vignesh Kumaresan\n",
    "Netid:  vk77"
   ]
  },
  {
   "cell_type": "markdown",
   "metadata": {},
   "source": [
    "# Probability and Statistics Theory"
   ]
  },
  {
   "cell_type": "markdown",
   "metadata": {
    "collapsed": true
   },
   "source": [
    "## 1\n",
    "Let $f(x) = \\begin{cases}\n",
    "                0           & x < 0  \\\\\n",
    "                \\alpha x^2  & 0 \\leq x \\leq 2 \\\\\n",
    "                0           & 2 < x\n",
    "            \\end{cases}$\n",
    "            \n",
    "For what value of $\\alpha$ is $f(x)$ a valid probability density function?\n",
    "\n",
    "*Note: for all assignments, write out all equations and math for all assignments using markdown and [LaTeX](https://tobi.oetiker.ch/lshort/lshort.pdf) and show all work*"
   ]
  },
  {
   "cell_type": "markdown",
   "metadata": {},
   "source": [
    "**ANSWER**\n",
    "\n",
    "Valid probability density function for f(x) is where $$  \\int_{0}^{2} ax^{2}dx = 1 $$\n",
    "\n",
    "Solve for a\n",
    "\n",
    "$$ \\int_{0}^{2} ax^{2}dx =  \\Biggr|_{0}^{2}\\frac{ax^{3}}{3} $$\n",
    "$$ \\frac{8a}{3} = 1 $$\n",
    "$$ a = \\frac{3}{8} $$\n"
   ]
  },
  {
   "cell_type": "markdown",
   "metadata": {},
   "source": [
    "## 2\n",
    "What is the cumulative distribution function (CDF) that corresponds to the following probability distribution function? Please state the value of the CDF for all possible values of $x$.\n",
    "\n",
    "$f(x) = \\begin{cases}\n",
    "    \\frac{1}{3} & 0 < x < 3 \\\\\n",
    "    0           & \\text{otherwise}\n",
    "    \\end{cases}$"
   ]
  },
  {
   "cell_type": "markdown",
   "metadata": {},
   "source": [
    "**ANSWER**\n",
    "\n",
    "To find the CDF, we need to integrate the PDF from 0 to x\n",
    "\n",
    "$ F(x) = \\int_{0}^{x} f(x) dx =  \\begin{cases}\n",
    "                                        0           & x ≤ 0  \\\\\n",
    "                                        \\frac{x}{3}  & 0 < x < 3 \\\\\n",
    "                                        1           & x ≥ 3\n",
    "                                    \\end{cases}$"
   ]
  },
  {
   "cell_type": "markdown",
   "metadata": {},
   "source": [
    "## 3\n",
    "For the probability distribution function for the random variable $X$,\n",
    "\n",
    "$f(x) = \\begin{cases}\n",
    "    \\frac{1}{3} & 0 < x < 3 \\\\\n",
    "    0           & \\text{otherwise}\n",
    "    \\end{cases}$\n",
    "    \n",
    "what is the (a) expected value and (b) variance of $X$. *Show all work*."
   ]
  },
  {
   "cell_type": "markdown",
   "metadata": {},
   "source": [
    "**ANSWER**\n",
    "\n",
    "(a) Expected value:\n",
    "\n",
    "$$ E[x] = \\int_{0}^{3} xf(x)dx = \\int_{0}^{3} \\frac{1}{3}xdx = \\frac{1}{6}*(3)^{2} - \\frac{1}{6}*(0)^{2} = \\frac{9}{6} = \\frac{3}{2}$$\n",
    "\n",
    "\n",
    "(b) Variance:\n",
    "\n",
    "$$ Var(x) = E[x^{2}] - E[x]^{2} $$\n",
    "\n",
    "$$ E[x^{2}] = \\int_{0}^{3} x^{2}f(x)dx = \\int_{0}^{3} \\frac{1}{3}x^{2}dx = \\frac{1}{9}*(3)^{3} - \\frac{1}{9}*(0)^{3} = \\frac{27}{9} $$\n",
    "\n",
    "$$ Var(x) = \\frac{27}{9} - (\\frac{3}{2})^{2} = \\frac{27}{9} - \\frac{9}{4} = \\frac{3}{4} $$\n"
   ]
  },
  {
   "cell_type": "markdown",
   "metadata": {},
   "source": [
    "## 4\n",
    "Consider the following table of data that provides the values of a discrete data vector $\\mathbf{x}$ of samples from the random variable $X$, where each entry in $\\mathbf{x}$ is given as $x_i$.\n",
    "\n",
    "*Table 1. Dataset N=5 observations*\n",
    "\n",
    "|        | $x_0$ | $x_1$ | $x_2$ | $x_3$ | $x_4$ |\n",
    "|------  |-------|-------|-------|-------|-------|\n",
    "|$\\textbf{x}$| 2     | 3     | 10    | -1    | -1    |\n",
    "\n",
    "What is the (a) mean, (b) variance, and the  of the data? \n",
    "\n",
    "*Show all work. Your answer should include the definition of mean, median, and variance in the context of discrete data.*"
   ]
  },
  {
   "cell_type": "markdown",
   "metadata": {},
   "source": [
    "**ANSWER**\n",
    "\n",
    "(a) Mean\n",
    "\n",
    "$$ Mean = \\frac{\\text{Sum}}{\\text{# of observations}} = \\frac{2 + 3 + 10 - 1 - 1}{5} = \\frac{13}{5} =  2.6 $$ \n",
    "\n",
    "(b) Variance\n",
    "\n",
    "$$ Variance = \\frac{\\sum (x - x̄)^{2}}{n - 1} $$\n",
    "\n",
    "$$ \\sum (x - x̄)^{2} = (2 - 2.6)^{2} + (3 - 2.6)^{2} + (10 - 2.6)^{2} + (-1 - 2.6)^{2} + (-1 - 2.6)^{2} = 81.2 $$\n",
    "\n",
    "$$ Variance = \\frac{81.2}{4} = 20.3 $$\n"
   ]
  },
  {
   "cell_type": "markdown",
   "metadata": {},
   "source": [
    "## 5\n",
    "Review of counting from probability theory. \n",
    "\n",
    "(a) How many different 7-place license plates are possible if the first 3 places only contain letters and the last 4 only contain numbers?\n",
    "\n",
    "(b) How many different batting orders are possible for a baseball team with 9 players?\n",
    "\n",
    "(c) How many batting orders of 5 players are possible for a team with 9 players total?\n",
    "\n",
    "(d) Let's assume this class has 26 students and we want to form project teams. How many unique teams of 3 are possible?\n",
    "\n",
    "*Hint: For each problem, determine if order matters, and if it should be calculated with or without replacement.*"
   ]
  },
  {
   "cell_type": "markdown",
   "metadata": {},
   "source": [
    "**ANSWER**\n",
    "\n",
    "(a) Order matters, calculated with replacement.\n",
    "    $$ 26^{3} * 10^{4} = 175,760,000 $$\n",
    "\n",
    "(b) Order does not matter, calculated without replacement.\n",
    "    $$ 9! = 9 * 8 * 7 * 6 * 5 * 4 * 3 * 2 * 1 = 362,880 $$\n",
    "\n",
    "(c) Order does not matter, calculated without replacement.\n",
    " $$ 9 choose 5 = \\frac{9!}{5! * (9-5)!} = 126 $$\n",
    "\n",
    "## Check if order matters. \n",
    "\n",
    "(d) Order does not matter, calculated without replacement.\n",
    "\n",
    " $$ 26 choose 3 =  \\frac{26!}{3! * (26-3)!} = 2600 $$\n"
   ]
  },
  {
   "cell_type": "markdown",
   "metadata": {},
   "source": [
    "# Linear Algebra"
   ]
  },
  {
   "cell_type": "markdown",
   "metadata": {},
   "source": [
    "## 6\n",
    "**Matrix manipulations and multiplication**. Machine learning involves working with many matrices, so this exercise will provide you with the opportunity to practice those skills.\n",
    "\n",
    "Let\n",
    "$\\mathbf{A} =  \\begin{bmatrix}\n",
    "1 & 2 & 3 \\\\\n",
    "2 & 4 & 5 \\\\\n",
    "3 & 5 & 6 \n",
    "\\end{bmatrix}$, $\\mathbf{b} =  \\begin{bmatrix}\n",
    "-1  \\\\\n",
    "3  \\\\\n",
    "8  \n",
    "\\end{bmatrix}$, $\\mathbf{c} =  \\begin{bmatrix}\n",
    "4  \\\\\n",
    "-3  \\\\\n",
    "6  \n",
    "\\end{bmatrix}$, and $\\mathbf{I} =  \\begin{bmatrix}\n",
    "1 & 0 & 0 \\\\\n",
    "0 & 1 & 0 \\\\\n",
    "0 & 0 & 1 \n",
    "\\end{bmatrix}$\n",
    "\n",
    "Compute the following or indicate that it cannot be computed:\n",
    "\n",
    "1. $\\mathbf{A}\\mathbf{A}$\n",
    "2. $\\mathbf{A}\\mathbf{A}^T$\n",
    "3. $\\mathbf{A}\\mathbf{b}$\n",
    "4. $\\mathbf{A}\\mathbf{b}^T$\n",
    "5. $\\mathbf{b}\\mathbf{A}$\n",
    "6. $\\mathbf{b}^T\\mathbf{A}$\n",
    "7. $\\mathbf{b}\\mathbf{b}$\n",
    "8. $\\mathbf{b}^T\\mathbf{b}$\n",
    "9. $\\mathbf{b}\\mathbf{b}^T$\n",
    "10. $\\mathbf{b} + \\mathbf{c}^T$\n",
    "11. $\\mathbf{b}^T\\mathbf{b}^T$\n",
    "12. $\\mathbf{A}^{-1}\\mathbf{b}$\n",
    "13. $\\mathbf{A}\\circ\\mathbf{A}$\n",
    "14. $\\mathbf{b}\\circ\\mathbf{c}$\n",
    "\n",
    "*Note: The element-wise (or Hadamard) product is the product of each element in one matrix with the corresponding element in another matrix, and is represented by the symbol \"$\\circ$\".*"
   ]
  },
  {
   "cell_type": "markdown",
   "metadata": {},
   "source": [
    "**ANSWER**\n",
    "\n"
   ]
  },
  {
   "cell_type": "code",
   "execution_count": 92,
   "metadata": {},
   "outputs": [
    {
     "name": "stdout",
     "output_type": "stream",
     "text": [
      "1. 𝐀𝐀 = \n",
      "[[14 25 31]\n",
      " [25 45 56]\n",
      " [31 56 70]]\n",
      "2. 𝐀𝐀𝑇 = \n",
      "[[14 25 31]\n",
      " [25 45 56]\n",
      " [31 56 70]]\n",
      "3. 𝐀b = \n",
      "[[29]\n",
      " [50]\n",
      " [60]]\n",
      "4. 𝐀𝐛𝑇 cannot be calculated\n",
      "5. 𝐛𝐀 cannot be calculated\n",
      "6. 𝐛𝑇𝐀 = \n",
      "[[29 50 60]]\n",
      "7. bb cannot be calculated\n",
      "8. 𝐛𝑇𝐛 = \n",
      "[[74]]\n",
      "9. 𝐛𝐛𝑇 = \n",
      "[[ 1 -3 -8]\n",
      " [-3  9 24]\n",
      " [-8 24 64]]\n",
      "10. 𝐛+𝐜𝑇 = \n",
      "[[ 3 -4  5]\n",
      " [ 7  0  9]\n",
      " [12  5 14]]\n",
      "11. 𝐛𝑇𝐛𝑇 cannot be calculated\n",
      "12. 𝐀−1𝐛 = \n",
      "[[ 6.]\n",
      " [ 4.]\n",
      " [-5.]]\n",
      "13. 𝐀∘𝐀 = \n",
      "[[14 25 31]\n",
      " [25 45 56]\n",
      " [31 56 70]]\n",
      "14. b∘c cannot be calculated\n"
     ]
    }
   ],
   "source": [
    "from numpy import linalg as LA\n",
    "from numpy.linalg import inv\n",
    "\n",
    "# Create matrix arrays\n",
    "A = np.array([[1,2,3], [2,4,5], [3,5,6]])\n",
    "b = np.array([[-1], [3], [8]])\n",
    "c = np.array([[4], [-3], [6]])\n",
    "I = np.array([[1,0,0], [0,1,0], [0,0,1]])\n",
    "\n",
    "# 1\n",
    "print(\"1. 𝐀𝐀 = \\n\" + str(np.matmul(A, A)))\n",
    "\n",
    "# 2\n",
    "print(\"2. 𝐀𝐀𝑇 = \\n\" + str(np.matmul(A, A.transpose())))\n",
    "\n",
    "# 3 \n",
    "print(\"3. 𝐀b = \\n\" + str(np.matmul(A, b)))\n",
    "\n",
    "# 4\n",
    "print(\"4. 𝐀𝐛𝑇 cannot be calculated\")\n",
    "\n",
    "# 5\n",
    "print(\"5. 𝐛𝐀 cannot be calculated\")\n",
    "\n",
    "# 6\n",
    "print(\"6. 𝐛𝑇𝐀 = \\n\" + str(np.matmul(b.transpose(), A)))\n",
    "\n",
    "# 7\n",
    "print(\"7. bb cannot be calculated\")\n",
    "\n",
    "# 8\n",
    "print(\"8. 𝐛𝑇𝐛 = \\n\" + str(np.matmul(b.transpose(), b)))\n",
    "\n",
    "# 9\n",
    "print(\"9. 𝐛𝐛𝑇 = \\n\" + str(np.matmul(b, b.transpose())))\n",
    "\n",
    "# 10\n",
    "print(\"10. 𝐛+𝐜𝑇 = \\n\" + str(np.add(b, c.transpose())))\n",
    "\n",
    "# 11\n",
    "print(\"11. 𝐛𝑇𝐛𝑇 cannot be calculated\")\n",
    "\n",
    "# 12\n",
    "print(\"12. 𝐀−1𝐛 = \\n\" + str(np.matmul(inv(A), b)))\n",
    "\n",
    "# 13\n",
    "print(\"13. 𝐀∘𝐀 = \\n\" + str(np.dot(A,A)))\n",
    "\n",
    "# 14\n",
    "print(\"14. b∘c cannot be calculated\")"
   ]
  },
  {
   "cell_type": "markdown",
   "metadata": {},
   "source": [
    "## 6\n",
    "**Eigenvectors and eigenvalues**. Eigenvectors and eigenvalues are useful for some machine learning algorithms, but the concepts take time to solidly grasp. For an intuitive review of these concepts, explore this [interactive website at Setosa.io](http://setosa.io/ev/eigenvectors-and-eigenvalues/). Also, the series of linear algebra videos by Grant Sanderson of 3Brown1Blue are excellent and can be viewed on youtube [here](https://www.youtube.com/playlist?list=PLZHQObOWTQDPD3MizzM2xVFitgF8hE_ab).\n",
    "\n",
    "1. Calculate the eigenvalues and corresponding eigenvectors of matrix $\\mathbf{A}$ above, from the last question.\n",
    "2. Choose one of the eigenvector/eigenvalue pairs, $\\mathbf{v}$ and $\\lambda$, and show that $\\mathbf{A} \\mathbf{v} = \\lambda \\mathbf{v}$. Also show that this relationship extends to higher orders: $\\mathbf{A} \\mathbf{A} \\mathbf{v} = \\lambda^2 \\mathbf{v}$\n",
    "3. Show that the eigenvectors are orthogonal to one another (e.g. their inner product is zero). This is true for real, symmetric matrices."
   ]
  },
  {
   "cell_type": "markdown",
   "metadata": {},
   "source": [
    "**ANSWER**\n",
    "\n"
   ]
  },
  {
   "cell_type": "code",
   "execution_count": 60,
   "metadata": {},
   "outputs": [
    {
     "name": "stdout",
     "output_type": "stream",
     "text": [
      "Av = [-3.72093206 -6.70488789 -8.36085845]\n",
      "𝜆𝐯 = [-3.72093206 -6.70488789 -8.36085845]\n",
      "AAv = [-42.2132832  -76.06570795 -94.85238636]\n",
      "𝜆2𝐯 = [-42.2132832  -76.06570795 -94.85238636]\n",
      "Inner product: -1.1102230246251565e-16\n",
      "Since this inner product is zero (taking into account computational error), these eigenvectors are orthogonal\n"
     ]
    }
   ],
   "source": [
    "from numpy import linalg as LA\n",
    "# 1\n",
    "A = np.array([[1,2,3],[2,4,5],[3,5,6]])\n",
    "eigen_values, eigen_vectors = LA.eig(A)\n",
    "\n",
    "# 2\n",
    "v = eigen_vectors[:,0] # get first eigenvector\n",
    "# print(v)\n",
    "lam = eigen_values[0] # get first eigenvalue\n",
    "# print(lam)\n",
    "print(\"Av = \" + str(np.dot(A, v)))\n",
    "print(\"𝜆𝐯 = \" + str(lam*v))\n",
    "\n",
    "# Higher orders\n",
    "print(\"AAv = \" + str(np.dot(np.dot(A, v),A)))\n",
    "print(\"𝜆2𝐯 = \" + str(lam*lam * v))\n",
    "\n",
    "# 3\n",
    "v1 = eigen_vectors[:,0] # first eigenvector\n",
    "v2 = eigen_vectors[:,1] # second eigenvector\n",
    "\n",
    "print(\"Inner product: \" + str(np.dot(v1,v2)))\n",
    "print(\"Since this inner product is zero (taking into account computational error), these eigenvectors are orthogonal\")\n"
   ]
  },
  {
   "cell_type": "markdown",
   "metadata": {},
   "source": [
    "# Numerical Programming"
   ]
  },
  {
   "cell_type": "markdown",
   "metadata": {},
   "source": [
    "## 7\n",
    "Speed comparison between vectorized and non-vectorized code. Begin by creating an array of 10 million random numbers using the numpy random.randn module. Compute the sum of the squares first in a for loop, then using Numpy's `dot` module. Time how long it takes to compute each and report the results and report the output. How many times faster is the vectorized code than the for loop approach?\n",
    "\n",
    "*Note: all code should be well commented, properly formatted, and your answers should be output using the `print()` function as follows (where the # represents your answers, to a reasonable precision):\n",
    "\n",
    "`Time [sec] (non-vectorized): ######`\n",
    "\n",
    "`Time [sec] (vectorized):     ######`\n",
    "\n",
    "`The vectorized code is ##### times faster than the vectorized code`"
   ]
  },
  {
   "cell_type": "markdown",
   "metadata": {},
   "source": [
    "**ANSWER**"
   ]
  },
  {
   "cell_type": "code",
   "execution_count": 18,
   "metadata": {},
   "outputs": [
    {
     "name": "stdout",
     "output_type": "stream",
     "text": [
      "Time [sec] (nonvectorized):4.484041929244995\n",
      "Time [sec] (vectorized):0.003957986831665039\n",
      "The vectorized code is 1132.9097644720198 times faster than the vectorized code\n"
     ]
    }
   ],
   "source": [
    "import numpy as np\n",
    "import time\n",
    "\n",
    "# Generate the random samples\n",
    "\n",
    "random_array = np.random.rand(10000000)\n",
    "\n",
    "# Compute the sum of squares the non-vectorized way (using a for loop)\n",
    "start = time.time()\n",
    "sum_nonvectorized = 0\n",
    "\n",
    "for n in random_array:\n",
    "    squared = n**2\n",
    "    sum_nonvectorized += squared\n",
    "\n",
    "# print(sum_nonvectorized)\n",
    "    \n",
    "end = time.time()\n",
    "time_nonvectorized = end - start\n",
    "\n",
    "# Compute the sum of squares the vectorized way (using numpy)\n",
    "start = time.time()\n",
    "\n",
    "sum_vectorized = np.dot(random_array, random_array.T)\n",
    "# print(sum_vectorized)\n",
    "\n",
    "end = time.time()\n",
    "time_vectorized = end - start\n",
    "\n",
    "# Print the results\n",
    "print(\"Time [sec] (nonvectorized):\" + str(time_nonvectorized))\n",
    "print(\"Time [sec] (vectorized):\" + str(time_vectorized))\n",
    "print(\"The vectorized code is \" + str(time_nonvectorized / time_vectorized) + \" times faster than the vectorized code\")"
   ]
  },
  {
   "cell_type": "markdown",
   "metadata": {},
   "source": [
    "## 8\n",
    "One popular Agile development framework is Scrum (a paradigm recommended for data science projects). It emphasizes the continual evolution of code for projects, becoming progressively better, but starting with a quickly developed minimum viable product. This often means that code written early on is not optimized, and that's a good thing - it's best to get it to work first before optimizing. Imagine that you wrote the following code during a sprint towards getting an end-to-end system working. Vectorize the following code and show the difference in speed between the current implementation and a vectorized version.\n",
    "\n",
    "The function below computes the function $f(x,y) = x^2 - 2 y^2$ and determines whether this quantity is above or below a given threshold, `thresh=0`. This is done for $x,y \\in \\{-4,4\\}$, over a 2,000-by-2,000 grid covering that domain.\n",
    "\n",
    "(a) Vectorize this code and demonstrate (as in the last exercise) the speed increase through vectorization and (b) plot the resulting data - both the function $f(x,y)$ and the thresholded output - using [`imshow`](https://matplotlib.org/api/_as_gen/matplotlib.pyplot.imshow.html?highlight=matplotlib%20pyplot%20imshow#matplotlib.pyplot.imshow) from `matplotlib`.\n",
    "\n",
    "*Hint: look at the `numpy` [`meshgrid`](https://docs.scipy.org/doc/numpy-1.13.0/reference/generated/numpy.meshgrid.html) documentation*"
   ]
  },
  {
   "cell_type": "code",
   "execution_count": 14,
   "metadata": {
    "collapsed": true
   },
   "outputs": [],
   "source": [
    "import numpy as np\n",
    "import time\n",
    "import matplotlib.pyplot as plt\n",
    "\n",
    "# Initialize variables for this exerise\n",
    "x = np.arange(-4,4)\n",
    "y = np.arange(-4,4)\n",
    "thresh = 0\n",
    "\n",
    "# Nonvectorized implementation\n",
    "for i in range(x):\n",
    "    \n",
    "\n",
    "\n",
    "# Vectorized implementation\n",
    "xx, yy = np.meshgrid(x, y, sparse=True)\n",
    "z = ((xx)**2) - ((2*yy)**2)\n",
    "\n",
    "\n",
    "\n",
    "# Print the time for each and the speed increase\n",
    "\n",
    "# Plot the result\n"
   ]
  },
  {
   "cell_type": "markdown",
   "metadata": {},
   "source": [
    "## 9\n",
    "This exercise will walk through some basic numerical programming exercises.\n",
    "1. Synthesize $n=10^4$ normally distributed data points with mean $\\mu=2$ and a standard deviation of $\\sigma=1$. Call these observations from a random variable $X$, and call the vector of observations that you generate, $\\textbf{x}$.\n",
    "2. Calculate the mean and standard deviation of $\\textbf{x}$ to validate (1) and provide the result to a precision of four significant figures.\n",
    "3. Plot a histogram of the data in $\\textbf{x}$ with 30 bins\n",
    "4. What is the 90th percentile of $\\textbf{x}$? The 90th percentile is the value below which 90% of observations can be found.\n",
    "5. What is the 99th percentile of $\\textbf{x}$?\n",
    "6. Now synthesize $n=10^4$ normally distributed data points with mean $\\mu=0$ and a standard deviation of $\\sigma=3$. Call these observations from a random variable $Y$, and call the vector of observations that you generate, $\\textbf{y}$.\n",
    "7. Plot the histogram of the data in $\\textbf{y}$ on a (new) plot with the histogram of $\\textbf{x}$, so that both histograms can be seen and compared.\n",
    "8. Using the observations from $\\textbf{x}$ and $\\textbf{y}$, estimate $E[XY]$"
   ]
  },
  {
   "cell_type": "markdown",
   "metadata": {},
   "source": [
    "**ANSWER**"
   ]
  },
  {
   "cell_type": "code",
   "execution_count": 93,
   "metadata": {},
   "outputs": [
    {
     "name": "stdout",
     "output_type": "stream",
     "text": [
      "The mean of x is: 2.004\n",
      "The standard deviation of x is: 1.013\n"
     ]
    },
    {
     "data": {
      "image/png": "[encoded data removed]",
      "text/plain": [
       "<matplotlib.figure.Figure at 0x1526cfee10>"
      ]
     },
     "metadata": {},
     "output_type": "display_data"
    },
    {
     "name": "stdout",
     "output_type": "stream",
     "text": [
      "The 90th percentile of x is: 3.308000772333388\n",
      "The 99th percentile of x is: 4.320701580470045\n"
     ]
    },
    {
     "data": {
      "image/png": "[encoded data removed]",
      "text/plain": [
       "<matplotlib.figure.Figure at 0x1526d70b38>"
      ]
     },
     "metadata": {},
     "output_type": "display_data"
    },
    {
     "name": "stdout",
     "output_type": "stream",
     "text": [
      "E[XY] = 0.07997692719903034\n"
     ]
    }
   ],
   "source": [
    "import matplotlib.pyplot as plt\n",
    "import numpy as np\n",
    "%matplotlib inline\n",
    "\n",
    "# 1\n",
    "x = np.random.normal(2, 1, 10**4)\n",
    "\n",
    "# 2\n",
    "print(\"The mean of x is: \" + str(round(np.mean(x), 3)))\n",
    "print(\"The standard deviation of x is: \" + str(round(np.std(x), 3)))\n",
    "\n",
    "# 3\n",
    "plt.hist(x, normed=True, bins=30)\n",
    "plt.show()\n",
    "\n",
    "# 4\n",
    "print(\"The 90th percentile of x is: \" + str(np.percentile(x, 90)))\n",
    "\n",
    "# 5\n",
    "print(\"The 99th percentile of x is: \" + str(np.percentile(x, 99)))\n",
    "\n",
    "# 6\n",
    "y = np.random.normal(0, 3, 10**4)\n",
    "\n",
    "# 7\n",
    "plt.hist([x,y], 30, label=['x','y'])\n",
    "plt.legend(loc='upper right')\n",
    "plt.show()\n",
    "# 8\n",
    "print(\"E[XY] = \" + str(np.mean(x * y)))"
   ]
  },
  {
   "cell_type": "markdown",
   "metadata": {},
   "source": [
    "## 10\n",
    "Estimate the integral of the function $f(x)$ on the interval $0\\leq x < 2.5$ assuming we only know the following points from $f$:\n",
    "\n",
    "*Table 1. Dataset containing n=5 observations*\n",
    "\n",
    "| $x_i$ | 0.0 | 0.5 | 1.0 | 1.5 | 2.0 |\n",
    "|-|-|-|-|-|-|\n",
    "| $y_i$ | 6 | 7 | 8 | 4 | 1 |\n"
   ]
  },
  {
   "cell_type": "markdown",
   "metadata": {},
   "source": [
    "**ANSWER**"
   ]
  },
  {
   "cell_type": "code",
   "execution_count": 96,
   "metadata": {},
   "outputs": [
    {
     "name": "stdout",
     "output_type": "stream",
     "text": [
      "[ 0.    3.25  7.   10.   11.25]\n",
      "The integral of the function f(x) on the interval 0 ≤ 𝑥 < 2.5, using trapezoidal sums, is equal to: 11.25\n",
      "11.166666666666666\n",
      "The integral of the function f(x) on the interval 0 ≤ 𝑥 < 2.5, using Simpson's Rule, is equal to: 11.16\n"
     ]
    }
   ],
   "source": [
    "from scipy import integrate\n",
    "x = [0, 0.5, 1.0, 1.5, 2.0]\n",
    "y = [6, 7, 8, 4, 1] \n",
    "\n",
    "y_int = integrate.cumtrapz(y, x, initial=0)\n",
    "print(y_int)\n",
    "print(\"The integral of the function f(x) on the interval 0 ≤ 𝑥 < 2.5, using trapezoidal sums, is equal to: \" + str(11.25))\n",
    "\n",
    "results = integrate.simps(y, x)\n",
    "print(results)\n",
    "print(\"The integral of the function f(x) on the interval 0 ≤ 𝑥 < 2.5, using Simpson's Rule, is equal to: \" + str(11.16))\n",
    "\n"
   ]
  },
  {
   "cell_type": "markdown",
   "metadata": {
    "collapsed": true
   },
   "source": [
    "# Version Control via Git"
   ]
  },
  {
   "cell_type": "markdown",
   "metadata": {},
   "source": [
    "## 11\n",
    "Complete the [Atlassian Git tutorial](https://www.atlassian.com/git/tutorials/what-is-version-control), specifically the following sections. Try each concept that's presented. For this tutorial, instead of using BitBucket, use Github. Create a github account here if you don't already have one: https://github.com/\n",
    "1. [What is version control](https://www.atlassian.com/git/tutorials/what-is-version-control)\n",
    "2. [What is Git](https://www.atlassian.com/git/tutorials/what-is-git)\n",
    "3. [Install Git](https://www.atlassian.com/git/tutorials/install-git)\n",
    "4. [Setting up a repository](https://www.atlassian.com/git/tutorials/install-git)\n",
    "5. [Saving changes](https://www.atlassian.com/git/tutorials/saving-changes)\n",
    "6. [Inspecting a repository](https://www.atlassian.com/git/tutorials/inspecting-a-repository)\n",
    "7. [Undoing changes](https://www.atlassian.com/git/tutorials/undoing-changes)\n",
    "8. [Rewriting history](https://www.atlassian.com/git/tutorials/rewriting-history)\n",
    "9. [Syncing](https://www.atlassian.com/git/tutorials/syncing)\n",
    "10. [Making a pull request](https://www.atlassian.com/git/tutorials/making-a-pull-request)\n",
    "11. [Using branches](https://www.atlassian.com/git/tutorials/using-branches)\n",
    "12. [Comparing workflows](https://www.atlassian.com/git/tutorials/comparing-workflows)\n",
    "\n",
    "For your answer, affirm that you either completed the tutorial or have previous experience with all of the concepts above. Do this by typing your name below and selecting the situation that applies from the two options in brackets."
   ]
  },
  {
   "cell_type": "markdown",
   "metadata": {},
   "source": [
    "**ANSWER**\n",
    "\n",
    "*I, Viggy Kumaresan, affirm that I have completed the tutorial.*"
   ]
  },
  {
   "cell_type": "markdown",
   "metadata": {},
   "source": [
    "## 12\n",
    "Using Github to create a static HTML website:\n",
    "1. Create a branch in your `machine-learning-course` repo called \"gh-pages\" and checkout that branch (this will provide an example of how to create a simple static website using [Github Pages](https://pages.github.com/))\n",
    "2. Create a file called \"index.html\" with the contents \"Hello World\" and add, commit, and push it to that branch.\n",
    "3. Submit the following: (a) a link to your github repository and (b) a link to your new \"Hello World\" website. The latter should be at the address https://[USERNAME].github.io/ECE590-assignment0 (where [USERNAME] is your github username)."
   ]
  },
  {
   "cell_type": "markdown",
   "metadata": {},
   "source": [
    "**ANSWER**\n",
    "\n"
   ]
  },
  {
   "cell_type": "code",
   "execution_count": 49,
   "metadata": {},
   "outputs": [
    {
     "name": "stdout",
     "output_type": "stream",
     "text": [
      "(a) Link to Github repository: https://github.com/vkumaresan/ECE590\n",
      "(b) Link to \"Hello World\" website : https://vkumaresan.github.io/ECE590/\n"
     ]
    }
   ],
   "source": [
    "print(\"(a) Link to Github repository: https://github.com/vkumaresan/ECE590\")\n",
    "print(\"(b) Link to \\\"Hello World\\\" website : https://vkumaresan.github.io/ECE590/\")\n"
   ]
  },
  {
   "cell_type": "markdown",
   "metadata": {
    "collapsed": true
   },
   "source": [
    "# Exploratory Data Analysis\n",
    "## 13\n",
    "Here you'll bring together some of the individual skills that you demonstrated above and create a Jupyter notebook based blog post on data analysis.\n",
    "\n",
    "1. Find a dataset that interests you and relates to a question or problem that you find intriguing\n",
    "2. Using a Jupyter notebook, describe the dataset, the source of the data, and the reason the dataset was of interest.\n",
    "3. Check the data and see if they need to be cleaned: are there missing values? Are there clearly erroneous values? Do two tables need to be merged together? Clean the data so it can be visualized.\n",
    "3. Plot the data, demonstrating interesting features that you discover. Are there any relationships between variables that were surprising or patterns that emerged? Please exercise creativity and curiosity in your plots.\n",
    "4. What insights are you able to take away from exploring the data? Is there a reason why analyzing the dataset you chose is particularly interesting or important? Summarize this as if your target audience was the readership of a major news organization - boil down your findings in a way that is accessible, but still accurate.\n",
    "5. Create a public repository on your github account titled \"machine-learning-course\". In it, create a readme file that contains the heading \"ECE590: Introductory Machine Learning for Data Science\". Add, commit, and push that Jupyter notebook to the master branch. Provide the link to the that post here."
   ]
  },
  {
   "cell_type": "markdown",
   "metadata": {},
   "source": [
    "**ANSWER**\n",
    "\n"
   ]
  }
 ],
 "metadata": {
  "kernelspec": {
   "display_name": "Python 3",
   "language": "python",
   "name": "python3"
  },
  "language_info": {
   "codemirror_mode": {
    "name": "ipython",
    "version": 3
   },
   "file_extension": ".py",
   "mimetype": "text/x-python",
   "name": "python",
   "nbconvert_exporter": "python",
   "pygments_lexer": "ipython3",
   "version": "3.6.4"
  }
 },
 "nbformat": 4,
 "nbformat_minor": 2
}
